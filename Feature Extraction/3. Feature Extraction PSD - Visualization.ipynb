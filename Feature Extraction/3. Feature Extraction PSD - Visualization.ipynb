{
 "cells": [
  {
   "cell_type": "markdown",
   "metadata": {},
   "source": [
    "# Feature Extraction using PSD for Data Visualization with Tableau Tool"
   ]
  },
  {
   "cell_type": "markdown",
   "metadata": {},
   "source": [
    "**Description**:\\\n",
    "Prepare the training dataset by using PSD Method from MNE and calculate the best Features for the Classifier Model.\n",
    "\n",
    "**Author**: Elmo Chavez\\\n",
    "**Date**: October 11, 2023"
   ]
  },
  {
   "cell_type": "markdown",
   "metadata": {},
   "source": [
    "## Libraries"
   ]
  },
  {
   "cell_type": "code",
   "execution_count": 1,
   "metadata": {},
   "outputs": [],
   "source": [
    "import pandas as pd\n",
    "import numpy as np\n",
    "import sys\n",
    "import os\n",
    "import matplotlib.pyplot as plt\n",
    "\n",
    "path_eeg_mne = os.path.abspath(os.path.join(os.path.dirname('eeg_mne.py'), '..'))\n",
    "sys.path.append(path_eeg_mne)\n",
    "import eeg_mne"
   ]
  },
  {
   "cell_type": "markdown",
   "metadata": {},
   "source": [
    "## Read the Data"
   ]
  },
  {
   "cell_type": "code",
   "execution_count": 2,
   "metadata": {},
   "outputs": [
    {
     "data": {
      "text/html": [
       "<div>\n",
       "<style scoped>\n",
       "    .dataframe tbody tr th:only-of-type {\n",
       "        vertical-align: middle;\n",
       "    }\n",
       "\n",
       "    .dataframe tbody tr th {\n",
       "        vertical-align: top;\n",
       "    }\n",
       "\n",
       "    .dataframe thead th {\n",
       "        text-align: right;\n",
       "    }\n",
       "</style>\n",
       "<table border=\"1\" class=\"dataframe\">\n",
       "  <thead>\n",
       "    <tr style=\"text-align: right;\">\n",
       "      <th></th>\n",
       "      <th>participant_id</th>\n",
       "      <th>Gender</th>\n",
       "      <th>Age</th>\n",
       "      <th>Group</th>\n",
       "      <th>MMSE</th>\n",
       "      <th>time_max</th>\n",
       "      <th>points</th>\n",
       "      <th>sfreq</th>\n",
       "      <th>flag</th>\n",
       "    </tr>\n",
       "  </thead>\n",
       "  <tbody>\n",
       "    <tr>\n",
       "      <th>0</th>\n",
       "      <td>sub-001</td>\n",
       "      <td>0</td>\n",
       "      <td>57</td>\n",
       "      <td>0</td>\n",
       "      <td>16</td>\n",
       "      <td>599.798</td>\n",
       "      <td>299900</td>\n",
       "      <td>500.0</td>\n",
       "      <td>True</td>\n",
       "    </tr>\n",
       "    <tr>\n",
       "      <th>1</th>\n",
       "      <td>sub-002</td>\n",
       "      <td>0</td>\n",
       "      <td>78</td>\n",
       "      <td>0</td>\n",
       "      <td>22</td>\n",
       "      <td>793.098</td>\n",
       "      <td>396550</td>\n",
       "      <td>500.0</td>\n",
       "      <td>True</td>\n",
       "    </tr>\n",
       "    <tr>\n",
       "      <th>2</th>\n",
       "      <td>sub-003</td>\n",
       "      <td>1</td>\n",
       "      <td>70</td>\n",
       "      <td>0</td>\n",
       "      <td>14</td>\n",
       "      <td>306.098</td>\n",
       "      <td>153050</td>\n",
       "      <td>500.0</td>\n",
       "      <td>False</td>\n",
       "    </tr>\n",
       "    <tr>\n",
       "      <th>3</th>\n",
       "      <td>sub-004</td>\n",
       "      <td>0</td>\n",
       "      <td>67</td>\n",
       "      <td>0</td>\n",
       "      <td>20</td>\n",
       "      <td>706.098</td>\n",
       "      <td>353050</td>\n",
       "      <td>500.0</td>\n",
       "      <td>True</td>\n",
       "    </tr>\n",
       "    <tr>\n",
       "      <th>4</th>\n",
       "      <td>sub-005</td>\n",
       "      <td>1</td>\n",
       "      <td>70</td>\n",
       "      <td>0</td>\n",
       "      <td>22</td>\n",
       "      <td>804.098</td>\n",
       "      <td>402050</td>\n",
       "      <td>500.0</td>\n",
       "      <td>True</td>\n",
       "    </tr>\n",
       "  </tbody>\n",
       "</table>\n",
       "</div>"
      ],
      "text/plain": [
       "  participant_id  Gender  Age  Group  MMSE  time_max  points  sfreq   flag\n",
       "0        sub-001       0   57      0    16   599.798  299900  500.0   True\n",
       "1        sub-002       0   78      0    22   793.098  396550  500.0   True\n",
       "2        sub-003       1   70      0    14   306.098  153050  500.0  False\n",
       "3        sub-004       0   67      0    20   706.098  353050  500.0   True\n",
       "4        sub-005       1   70      0    22   804.098  402050  500.0   True"
      ]
     },
     "execution_count": 2,
     "metadata": {},
     "output_type": "execute_result"
    }
   ],
   "source": [
    "# EEG Dataset Path\n",
    "path = '../ds004504/derivatives'\n",
    "\n",
    "# Training Directory path\n",
    "path_training = '../Training Dataset/'\n",
    "file_part_selected = 'Participants_Selected.csv'\n",
    "\n",
    "# Read the Preselected Datasets\n",
    "df_participants_selected = pd.read_csv(path_training+file_part_selected)\n",
    "subs_selected = df_participants_selected['participant_id'].to_list()\n",
    "df_participants_selected.head()"
   ]
  },
  {
   "cell_type": "markdown",
   "metadata": {},
   "source": [
    "Preselect only 3 Subjects from each Group"
   ]
  },
  {
   "cell_type": "code",
   "execution_count": 3,
   "metadata": {},
   "outputs": [
    {
     "data": {
      "text/html": [
       "<div>\n",
       "<style scoped>\n",
       "    .dataframe tbody tr th:only-of-type {\n",
       "        vertical-align: middle;\n",
       "    }\n",
       "\n",
       "    .dataframe tbody tr th {\n",
       "        vertical-align: top;\n",
       "    }\n",
       "\n",
       "    .dataframe thead th {\n",
       "        text-align: right;\n",
       "    }\n",
       "</style>\n",
       "<table border=\"1\" class=\"dataframe\">\n",
       "  <thead>\n",
       "    <tr style=\"text-align: right;\">\n",
       "      <th></th>\n",
       "      <th>participant_id</th>\n",
       "      <th>Gender</th>\n",
       "      <th>Age</th>\n",
       "      <th>Group</th>\n",
       "      <th>MMSE</th>\n",
       "      <th>time_max</th>\n",
       "      <th>points</th>\n",
       "      <th>sfreq</th>\n",
       "      <th>flag</th>\n",
       "    </tr>\n",
       "  </thead>\n",
       "  <tbody>\n",
       "    <tr>\n",
       "      <th>0</th>\n",
       "      <td>sub-001</td>\n",
       "      <td>0</td>\n",
       "      <td>57</td>\n",
       "      <td>0</td>\n",
       "      <td>16</td>\n",
       "      <td>599.798</td>\n",
       "      <td>299900</td>\n",
       "      <td>500.0</td>\n",
       "      <td>True</td>\n",
       "    </tr>\n",
       "    <tr>\n",
       "      <th>1</th>\n",
       "      <td>sub-002</td>\n",
       "      <td>0</td>\n",
       "      <td>78</td>\n",
       "      <td>0</td>\n",
       "      <td>22</td>\n",
       "      <td>793.098</td>\n",
       "      <td>396550</td>\n",
       "      <td>500.0</td>\n",
       "      <td>True</td>\n",
       "    </tr>\n",
       "    <tr>\n",
       "      <th>3</th>\n",
       "      <td>sub-004</td>\n",
       "      <td>0</td>\n",
       "      <td>67</td>\n",
       "      <td>0</td>\n",
       "      <td>20</td>\n",
       "      <td>706.098</td>\n",
       "      <td>353050</td>\n",
       "      <td>500.0</td>\n",
       "      <td>True</td>\n",
       "    </tr>\n",
       "    <tr>\n",
       "      <th>65</th>\n",
       "      <td>sub-066</td>\n",
       "      <td>1</td>\n",
       "      <td>73</td>\n",
       "      <td>1</td>\n",
       "      <td>20</td>\n",
       "      <td>549.758</td>\n",
       "      <td>274880</td>\n",
       "      <td>500.0</td>\n",
       "      <td>True</td>\n",
       "    </tr>\n",
       "    <tr>\n",
       "      <th>66</th>\n",
       "      <td>sub-067</td>\n",
       "      <td>1</td>\n",
       "      <td>66</td>\n",
       "      <td>1</td>\n",
       "      <td>24</td>\n",
       "      <td>643.098</td>\n",
       "      <td>321550</td>\n",
       "      <td>500.0</td>\n",
       "      <td>True</td>\n",
       "    </tr>\n",
       "    <tr>\n",
       "      <th>67</th>\n",
       "      <td>sub-068</td>\n",
       "      <td>1</td>\n",
       "      <td>78</td>\n",
       "      <td>1</td>\n",
       "      <td>25</td>\n",
       "      <td>573.098</td>\n",
       "      <td>286550</td>\n",
       "      <td>500.0</td>\n",
       "      <td>True</td>\n",
       "    </tr>\n",
       "  </tbody>\n",
       "</table>\n",
       "</div>"
      ],
      "text/plain": [
       "   participant_id  Gender  Age  Group  MMSE  time_max  points  sfreq  flag\n",
       "0         sub-001       0   57      0    16   599.798  299900  500.0  True\n",
       "1         sub-002       0   78      0    22   793.098  396550  500.0  True\n",
       "3         sub-004       0   67      0    20   706.098  353050  500.0  True\n",
       "65        sub-066       1   73      1    20   549.758  274880  500.0  True\n",
       "66        sub-067       1   66      1    24   643.098  321550  500.0  True\n",
       "67        sub-068       1   78      1    25   573.098  286550  500.0  True"
      ]
     },
     "execution_count": 3,
     "metadata": {},
     "output_type": "execute_result"
    }
   ],
   "source": [
    "# Subjects Preselected\n",
    "df_participants_selected[df_participants_selected['flag']==True].groupby('Group').head(3)"
   ]
  },
  {
   "cell_type": "code",
   "execution_count": 4,
   "metadata": {},
   "outputs": [
    {
     "data": {
      "text/html": [
       "<div>\n",
       "<style scoped>\n",
       "    .dataframe tbody tr th:only-of-type {\n",
       "        vertical-align: middle;\n",
       "    }\n",
       "\n",
       "    .dataframe tbody tr th {\n",
       "        vertical-align: top;\n",
       "    }\n",
       "\n",
       "    .dataframe thead th {\n",
       "        text-align: right;\n",
       "    }\n",
       "</style>\n",
       "<table border=\"1\" class=\"dataframe\">\n",
       "  <thead>\n",
       "    <tr style=\"text-align: right;\">\n",
       "      <th></th>\n",
       "      <th>participant_id</th>\n",
       "      <th>Gender</th>\n",
       "      <th>Age</th>\n",
       "      <th>Group</th>\n",
       "      <th>MMSE</th>\n",
       "      <th>time_max</th>\n",
       "      <th>points</th>\n",
       "      <th>sfreq</th>\n",
       "      <th>flag</th>\n",
       "    </tr>\n",
       "  </thead>\n",
       "  <tbody>\n",
       "    <tr>\n",
       "      <th>36</th>\n",
       "      <td>sub-037</td>\n",
       "      <td>1</td>\n",
       "      <td>57</td>\n",
       "      <td>2</td>\n",
       "      <td>30</td>\n",
       "      <td>777.098</td>\n",
       "      <td>388550</td>\n",
       "      <td>500.0</td>\n",
       "      <td>False</td>\n",
       "    </tr>\n",
       "    <tr>\n",
       "      <th>37</th>\n",
       "      <td>sub-038</td>\n",
       "      <td>1</td>\n",
       "      <td>62</td>\n",
       "      <td>2</td>\n",
       "      <td>30</td>\n",
       "      <td>891.398</td>\n",
       "      <td>445700</td>\n",
       "      <td>500.0</td>\n",
       "      <td>False</td>\n",
       "    </tr>\n",
       "    <tr>\n",
       "      <th>38</th>\n",
       "      <td>sub-039</td>\n",
       "      <td>1</td>\n",
       "      <td>70</td>\n",
       "      <td>2</td>\n",
       "      <td>30</td>\n",
       "      <td>850.078</td>\n",
       "      <td>425040</td>\n",
       "      <td>500.0</td>\n",
       "      <td>False</td>\n",
       "    </tr>\n",
       "    <tr>\n",
       "      <th>39</th>\n",
       "      <td>sub-040</td>\n",
       "      <td>1</td>\n",
       "      <td>61</td>\n",
       "      <td>2</td>\n",
       "      <td>30</td>\n",
       "      <td>965.738</td>\n",
       "      <td>482870</td>\n",
       "      <td>500.0</td>\n",
       "      <td>False</td>\n",
       "    </tr>\n",
       "    <tr>\n",
       "      <th>40</th>\n",
       "      <td>sub-041</td>\n",
       "      <td>0</td>\n",
       "      <td>77</td>\n",
       "      <td>2</td>\n",
       "      <td>30</td>\n",
       "      <td>886.098</td>\n",
       "      <td>443050</td>\n",
       "      <td>500.0</td>\n",
       "      <td>False</td>\n",
       "    </tr>\n",
       "  </tbody>\n",
       "</table>\n",
       "</div>"
      ],
      "text/plain": [
       "   participant_id  Gender  Age  Group  MMSE  time_max  points  sfreq   flag\n",
       "36        sub-037       1   57      2    30   777.098  388550  500.0  False\n",
       "37        sub-038       1   62      2    30   891.398  445700  500.0  False\n",
       "38        sub-039       1   70      2    30   850.078  425040  500.0  False\n",
       "39        sub-040       1   61      2    30   965.738  482870  500.0  False\n",
       "40        sub-041       0   77      2    30   886.098  443050  500.0  False"
      ]
     },
     "execution_count": 4,
     "metadata": {},
     "output_type": "execute_result"
    }
   ],
   "source": [
    "# Subjects with Healthy Control\n",
    "df_participants_selected[df_participants_selected['Group']==2].head()"
   ]
  },
  {
   "cell_type": "code",
   "execution_count": 5,
   "metadata": {},
   "outputs": [
    {
     "data": {
      "text/plain": [
       "['sub-001',\n",
       " 'sub-002',\n",
       " 'sub-004',\n",
       " 'sub-066',\n",
       " 'sub-067',\n",
       " 'sub-068',\n",
       " 'sub-037',\n",
       " 'sub-038',\n",
       " 'sub-039']"
      ]
     },
     "execution_count": 5,
     "metadata": {},
     "output_type": "execute_result"
    }
   ],
   "source": [
    "# Select only AD and FTD datasets\n",
    "list_subjects_id = df_participants_selected[df_participants_selected['flag']==True].groupby('Group')['participant_id'].head(3).to_list()\n",
    "\n",
    "# Add the Healthy subjects to compare with the rest \n",
    "list_subjects_id.extend(df_participants_selected[df_participants_selected['Group']==2]['participant_id'].head(3).to_list())\n",
    "list_subjects_id"
   ]
  },
  {
   "cell_type": "markdown",
   "metadata": {},
   "source": [
    "Read only the Preselected Subjects as Raw Datasets"
   ]
  },
  {
   "cell_type": "code",
   "execution_count": 6,
   "metadata": {},
   "outputs": [
    {
     "name": "stdout",
     "output_type": "stream",
     "text": [
      "EEG Raw Data readed: 9\n"
     ]
    }
   ],
   "source": [
    "path = '../ds004504/derivatives/'\n",
    "raw_list = eeg_mne.EEG_Raw_Data_List(path, list_subjects_id)"
   ]
  },
  {
   "cell_type": "code",
   "execution_count": 7,
   "metadata": {},
   "outputs": [
    {
     "data": {
      "text/html": [
       "<table class=\"table table-hover table-striped table-sm table-responsive small\">\n",
       "    <tr>\n",
       "        <th>Measurement date</th>\n",
       "        \n",
       "        <td>Unknown</td>\n",
       "        \n",
       "    </tr>\n",
       "    <tr>\n",
       "        <th>Experimenter</th>\n",
       "        \n",
       "        <td>Unknown</td>\n",
       "        \n",
       "    </tr>\n",
       "        <th>Participant</th>\n",
       "        \n",
       "        <td>Unknown</td>\n",
       "        \n",
       "    </tr>\n",
       "    <tr>\n",
       "        <th>Digitized points</th>\n",
       "        \n",
       "        <td>22 points</td>\n",
       "        \n",
       "    </tr>\n",
       "    <tr>\n",
       "        <th>Good channels</th>\n",
       "        <td>19 EEG</td>\n",
       "    </tr>\n",
       "    <tr>\n",
       "        <th>Bad channels</th>\n",
       "        <td>None</td>\n",
       "    </tr>\n",
       "    <tr>\n",
       "        <th>EOG channels</th>\n",
       "        <td>Not available</td>\n",
       "    </tr>\n",
       "    <tr>\n",
       "        <th>ECG channels</th>\n",
       "        <td>Not available</td>\n",
       "    \n",
       "    <tr>\n",
       "        <th>Sampling frequency</th>\n",
       "        <td>500.00 Hz</td>\n",
       "    </tr>\n",
       "    \n",
       "    \n",
       "    <tr>\n",
       "        <th>Highpass</th>\n",
       "        <td>0.00 Hz</td>\n",
       "    </tr>\n",
       "    \n",
       "    \n",
       "    <tr>\n",
       "        <th>Lowpass</th>\n",
       "        <td>250.00 Hz</td>\n",
       "    </tr>\n",
       "    \n",
       "    \n",
       "    \n",
       "    <tr>\n",
       "        <th>Filenames</th>\n",
       "        <td>sub-001_task-eyesclosed_eeg.set</td>\n",
       "    </tr>\n",
       "    \n",
       "    <tr>\n",
       "        <th>Duration</th>\n",
       "        <td>00:09:60 (HH:MM:SS)</td>\n",
       "    </tr>\n",
       "</table>"
      ],
      "text/plain": [
       "<RawEEGLAB | sub-001_task-eyesclosed_eeg.set, 19 x 299900 (599.8 s), ~43.5 MB, data loaded>"
      ]
     },
     "execution_count": 7,
     "metadata": {},
     "output_type": "execute_result"
    }
   ],
   "source": [
    "raw_list[0]"
   ]
  },
  {
   "cell_type": "markdown",
   "metadata": {},
   "source": [
    "## Dataset for Visualization Insight"
   ]
  },
  {
   "cell_type": "code",
   "execution_count": 8,
   "metadata": {},
   "outputs": [
    {
     "name": "stdout",
     "output_type": "stream",
     "text": [
      "9\n"
     ]
    }
   ],
   "source": [
    "list_subs_df = list()\n",
    "for raw, sub_id in zip(raw_list, list_subjects_id):\n",
    "    df = eeg_mne.Raw_by_Freq_Bands(raw, tmax=480, sub_id=sub_id)\n",
    "    list_subs_df.append(df)\n",
    "\n",
    "print(len(list_subs_df))"
   ]
  },
  {
   "cell_type": "code",
   "execution_count": 9,
   "metadata": {},
   "outputs": [
    {
     "name": "stdout",
     "output_type": "stream",
     "text": [
      "(1200005, 22)\n",
      "(1200005, 22)\n",
      "(1200005, 22)\n",
      "(1200005, 22)\n",
      "(1200005, 22)\n",
      "(1200005, 22)\n",
      "(1200005, 22)\n",
      "(1200005, 22)\n",
      "(1200005, 22)\n"
     ]
    }
   ],
   "source": [
    "for df in list_subs_df:\n",
    "    print(df.shape)"
   ]
  },
  {
   "cell_type": "code",
   "execution_count": 11,
   "metadata": {},
   "outputs": [
    {
     "data": {
      "text/plain": [
       "(10800045, 22)"
      ]
     },
     "execution_count": 11,
     "metadata": {},
     "output_type": "execute_result"
    }
   ],
   "source": [
    "df_all_freq_bands = pd.concat(list_subs_df, ignore_index=True)\n",
    "df_all_freq_bands.shape"
   ]
  },
  {
   "cell_type": "markdown",
   "metadata": {},
   "source": [
    "## Save Result"
   ]
  },
  {
   "cell_type": "code",
   "execution_count": 18,
   "metadata": {},
   "outputs": [],
   "source": [
    "path_result = '../Vizualization Datasets/'\n",
    "filename = 'Raws_by_Frequency_Bands.csv'\n",
    "df_all_freq_bands.to_csv(path_result+filename, index=False)"
   ]
  },
  {
   "cell_type": "markdown",
   "metadata": {},
   "source": [
    "This dataset won't be uploaded to the repository due to long space storage required."
   ]
  }
 ],
 "metadata": {
  "kernelspec": {
   "display_name": ".venv",
   "language": "python",
   "name": "python3"
  },
  "language_info": {
   "codemirror_mode": {
    "name": "ipython",
    "version": 3
   },
   "file_extension": ".py",
   "mimetype": "text/x-python",
   "name": "python",
   "nbconvert_exporter": "python",
   "pygments_lexer": "ipython3",
   "version": "3.11.5"
  }
 },
 "nbformat": 4,
 "nbformat_minor": 2
}
