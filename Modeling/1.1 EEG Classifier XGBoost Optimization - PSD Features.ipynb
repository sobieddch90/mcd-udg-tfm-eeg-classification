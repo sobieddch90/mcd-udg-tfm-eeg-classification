{
 "cells": [
  {
   "cell_type": "markdown",
   "metadata": {},
   "source": [
    "# XGBoost Optimization with PSD Features from EEG Data"
   ]
  },
  {
   "cell_type": "markdown",
   "metadata": {},
   "source": [
    "**Description**:\\\n",
    "After getting the Cross-Validation results, the aim in this notebook will be testing the models with the best results and applying the hyper parameters optimization.\n",
    "\n",
    "**Author**: Elmo Chavez\\\n",
    "**Date**: October 31, 2023"
   ]
  },
  {
   "cell_type": "markdown",
   "metadata": {},
   "source": [
    "## Libraries"
   ]
  },
  {
   "cell_type": "code",
   "execution_count": 1,
   "metadata": {},
   "outputs": [],
   "source": [
    "import pandas as pd\n",
    "import numpy as np\n",
    "import os\n",
    "import sys\n",
    "\n",
    "# Sklearn Score metrics\n",
    "from sklearn.metrics import accuracy_score, f1_score, roc_auc_score\n",
    "from sklearn.model_selection import train_test_split, GridSearchCV, RandomizedSearchCV\n",
    "from sklearn.feature_selection import SelectKBest, chi2\n",
    "# Classifier\n",
    "import xgboost as xgb\n",
    "# Plot\n",
    "import matplotlib.pyplot as plt\n",
    "import seaborn as sns\n",
    "# EEG Methods\n",
    "path_eeg_mne = os.path.abspath(os.path.join(os.path.dirname('eeg_mne.py'), '..'))\n",
    "sys.path.append(path_eeg_mne)\n",
    "import eeg_mne"
   ]
  },
  {
   "cell_type": "markdown",
   "metadata": {},
   "source": [
    "## Read the Data"
   ]
  },
  {
   "cell_type": "markdown",
   "metadata": {},
   "source": [
    "Read Training Datasets"
   ]
  },
  {
   "cell_type": "code",
   "execution_count": 2,
   "metadata": {},
   "outputs": [
    {
     "name": "stdout",
     "output_type": "stream",
     "text": [
      "PSD Features All Channels shape: (44, 6274)\n",
      "PSD Features FP1 Channel shape: (44, 334)\n"
     ]
    }
   ],
   "source": [
    "path = '../Training Dataset/'\n",
    "file_psd_feat_all = 'PSD_Features-All_Channels.csv'\n",
    "file_psd_feat_fp1 = 'PSD_Features-FP1_Channel.csv'\n",
    "\n",
    "df_psd_features_all = pd.read_csv(path+file_psd_feat_all)\n",
    "df_psd_features_fp1 = pd.read_csv(path+file_psd_feat_fp1)\n",
    "\n",
    "print('PSD Features All Channels shape:', df_psd_features_all.shape)\n",
    "print('PSD Features FP1 Channel shape:', df_psd_features_fp1.shape)"
   ]
  },
  {
   "cell_type": "markdown",
   "metadata": {},
   "source": [
    "Read Results from Cross-Validation"
   ]
  },
  {
   "cell_type": "code",
   "execution_count": 3,
   "metadata": {},
   "outputs": [
    {
     "data": {
      "text/html": [
       "<div>\n",
       "<style scoped>\n",
       "    .dataframe tbody tr th:only-of-type {\n",
       "        vertical-align: middle;\n",
       "    }\n",
       "\n",
       "    .dataframe tbody tr th {\n",
       "        vertical-align: top;\n",
       "    }\n",
       "\n",
       "    .dataframe thead th {\n",
       "        text-align: right;\n",
       "    }\n",
       "</style>\n",
       "<table border=\"1\" class=\"dataframe\">\n",
       "  <thead>\n",
       "    <tr style=\"text-align: right;\">\n",
       "      <th></th>\n",
       "      <th>Unnamed: 0</th>\n",
       "      <th>feature_extraction</th>\n",
       "      <th>channels</th>\n",
       "      <th>classifier</th>\n",
       "      <th>cross-validation</th>\n",
       "      <th>feature-selection</th>\n",
       "      <th>accuracy</th>\n",
       "      <th>f1_score</th>\n",
       "      <th>AUC</th>\n",
       "    </tr>\n",
       "  </thead>\n",
       "  <tbody>\n",
       "    <tr>\n",
       "      <th>0</th>\n",
       "      <td>0</td>\n",
       "      <td>PSD</td>\n",
       "      <td>All</td>\n",
       "      <td>Support Vector</td>\n",
       "      <td>KFold</td>\n",
       "      <td>anova</td>\n",
       "      <td>0.477778</td>\n",
       "      <td>0.425000</td>\n",
       "      <td>0.471667</td>\n",
       "    </tr>\n",
       "    <tr>\n",
       "      <th>1</th>\n",
       "      <td>1</td>\n",
       "      <td>PSD</td>\n",
       "      <td>All</td>\n",
       "      <td>Support Vector</td>\n",
       "      <td>KFold</td>\n",
       "      <td>mutual_info_classif</td>\n",
       "      <td>0.544444</td>\n",
       "      <td>0.451299</td>\n",
       "      <td>0.590000</td>\n",
       "    </tr>\n",
       "    <tr>\n",
       "      <th>2</th>\n",
       "      <td>2</td>\n",
       "      <td>PSD</td>\n",
       "      <td>All</td>\n",
       "      <td>Support Vector</td>\n",
       "      <td>KFold</td>\n",
       "      <td>chi2</td>\n",
       "      <td>0.461111</td>\n",
       "      <td>0.369744</td>\n",
       "      <td>0.550000</td>\n",
       "    </tr>\n",
       "    <tr>\n",
       "      <th>3</th>\n",
       "      <td>3</td>\n",
       "      <td>PSD</td>\n",
       "      <td>All</td>\n",
       "      <td>Support Vector</td>\n",
       "      <td>StratifiedKFold</td>\n",
       "      <td>anova</td>\n",
       "      <td>0.544444</td>\n",
       "      <td>0.468075</td>\n",
       "      <td>0.565000</td>\n",
       "    </tr>\n",
       "    <tr>\n",
       "      <th>4</th>\n",
       "      <td>4</td>\n",
       "      <td>PSD</td>\n",
       "      <td>All</td>\n",
       "      <td>Support Vector</td>\n",
       "      <td>StratifiedKFold</td>\n",
       "      <td>mutual_info_classif</td>\n",
       "      <td>0.566667</td>\n",
       "      <td>0.456667</td>\n",
       "      <td>0.575000</td>\n",
       "    </tr>\n",
       "  </tbody>\n",
       "</table>\n",
       "</div>"
      ],
      "text/plain": [
       "   Unnamed: 0 feature_extraction channels      classifier cross-validation  \\\n",
       "0           0                PSD      All  Support Vector            KFold   \n",
       "1           1                PSD      All  Support Vector            KFold   \n",
       "2           2                PSD      All  Support Vector            KFold   \n",
       "3           3                PSD      All  Support Vector  StratifiedKFold   \n",
       "4           4                PSD      All  Support Vector  StratifiedKFold   \n",
       "\n",
       "     feature-selection  accuracy  f1_score       AUC  \n",
       "0                anova  0.477778  0.425000  0.471667  \n",
       "1  mutual_info_classif  0.544444  0.451299  0.590000  \n",
       "2                 chi2  0.461111  0.369744  0.550000  \n",
       "3                anova  0.544444  0.468075  0.565000  \n",
       "4  mutual_info_classif  0.566667  0.456667  0.575000  "
      ]
     },
     "execution_count": 3,
     "metadata": {},
     "output_type": "execute_result"
    }
   ],
   "source": [
    "file_results = 'Results PSD - Cross-Validation.csv'\n",
    "\n",
    "df_results_psd_cv = pd.read_csv(path+file_results)\n",
    "df_results_psd_cv.head()"
   ]
  },
  {
   "cell_type": "markdown",
   "metadata": {},
   "source": [
    "## Quick Explore of the Data"
   ]
  },
  {
   "cell_type": "code",
   "execution_count": 4,
   "metadata": {},
   "outputs": [
    {
     "name": "stdout",
     "output_type": "stream",
     "text": [
      "Total Features: 6274\n",
      "Windows: 11 -> ['w0', 'w1', 'w10', 'w2', 'w3', 'w4', 'w5', 'w6', 'w7', 'w8', 'w9']\n",
      "Channels: 19 -> ['P4', 'F3', 'Pz', 'Cz', 'O2', 'T3', 'C4', 'Fp2', 'Fp1', 'C3', 'F8', 'P3', 'F7', 'T4', 'T5', 'T6', 'Fz', 'O1', 'F4']\n",
      "Frequency Bands: 5 -> ['gamma', 'delta', 'alpha', 'beta', 'theta']\n",
      "Features: 6 -> ['peak to peak', 'total power', 'spectral entropy', 'std dev', 'relative power', 'average power']\n"
     ]
    },
    {
     "data": {
      "text/html": [
       "<div>\n",
       "<style scoped>\n",
       "    .dataframe tbody tr th:only-of-type {\n",
       "        vertical-align: middle;\n",
       "    }\n",
       "\n",
       "    .dataframe tbody tr th {\n",
       "        vertical-align: top;\n",
       "    }\n",
       "\n",
       "    .dataframe thead th {\n",
       "        text-align: right;\n",
       "    }\n",
       "</style>\n",
       "<table border=\"1\" class=\"dataframe\">\n",
       "  <thead>\n",
       "    <tr style=\"text-align: right;\">\n",
       "      <th></th>\n",
       "      <th>participant_id</th>\n",
       "      <th>w0_Fp1_delta_total_power</th>\n",
       "      <th>w0_Fp2_delta_total_power</th>\n",
       "      <th>w0_F3_delta_total_power</th>\n",
       "      <th>w0_F4_delta_total_power</th>\n",
       "      <th>w0_C3_delta_total_power</th>\n",
       "      <th>w0_C4_delta_total_power</th>\n",
       "      <th>w0_P3_delta_total_power</th>\n",
       "      <th>w0_P4_delta_total_power</th>\n",
       "      <th>w0_O1_delta_total_power</th>\n",
       "      <th>...</th>\n",
       "      <th>w10_T3_gamma_peak_to_peak</th>\n",
       "      <th>w10_T4_gamma_peak_to_peak</th>\n",
       "      <th>w10_T5_gamma_peak_to_peak</th>\n",
       "      <th>w10_T6_gamma_peak_to_peak</th>\n",
       "      <th>w10_Fz_gamma_peak_to_peak</th>\n",
       "      <th>w10_Cz_gamma_peak_to_peak</th>\n",
       "      <th>w10_Pz_gamma_peak_to_peak</th>\n",
       "      <th>Gender</th>\n",
       "      <th>Age</th>\n",
       "      <th>Group</th>\n",
       "    </tr>\n",
       "  </thead>\n",
       "  <tbody>\n",
       "    <tr>\n",
       "      <th>0</th>\n",
       "      <td>sub-001</td>\n",
       "      <td>1.482606e-10</td>\n",
       "      <td>1.399864e-10</td>\n",
       "      <td>1.315407e-10</td>\n",
       "      <td>1.296565e-10</td>\n",
       "      <td>1.282590e-10</td>\n",
       "      <td>1.303774e-10</td>\n",
       "      <td>1.333272e-10</td>\n",
       "      <td>1.370710e-10</td>\n",
       "      <td>1.435011e-10</td>\n",
       "      <td>...</td>\n",
       "      <td>3.386688e-13</td>\n",
       "      <td>2.955004e-13</td>\n",
       "      <td>5.828301e-13</td>\n",
       "      <td>3.091508e-13</td>\n",
       "      <td>2.907760e-13</td>\n",
       "      <td>2.915964e-13</td>\n",
       "      <td>2.048106e-13</td>\n",
       "      <td>0</td>\n",
       "      <td>57</td>\n",
       "      <td>0</td>\n",
       "    </tr>\n",
       "    <tr>\n",
       "      <th>1</th>\n",
       "      <td>sub-002</td>\n",
       "      <td>1.079119e-10</td>\n",
       "      <td>1.114170e-10</td>\n",
       "      <td>1.113520e-10</td>\n",
       "      <td>1.128301e-10</td>\n",
       "      <td>1.113290e-10</td>\n",
       "      <td>1.130439e-10</td>\n",
       "      <td>1.129429e-10</td>\n",
       "      <td>1.143529e-10</td>\n",
       "      <td>1.139642e-10</td>\n",
       "      <td>...</td>\n",
       "      <td>2.484285e-13</td>\n",
       "      <td>2.515664e-13</td>\n",
       "      <td>2.061092e-13</td>\n",
       "      <td>2.073052e-13</td>\n",
       "      <td>1.989391e-13</td>\n",
       "      <td>1.647601e-13</td>\n",
       "      <td>1.809839e-13</td>\n",
       "      <td>0</td>\n",
       "      <td>78</td>\n",
       "      <td>0</td>\n",
       "    </tr>\n",
       "    <tr>\n",
       "      <th>2</th>\n",
       "      <td>sub-004</td>\n",
       "      <td>1.405334e-10</td>\n",
       "      <td>1.227932e-10</td>\n",
       "      <td>1.387294e-10</td>\n",
       "      <td>1.335640e-10</td>\n",
       "      <td>1.315632e-10</td>\n",
       "      <td>1.274436e-10</td>\n",
       "      <td>1.349376e-10</td>\n",
       "      <td>1.327209e-10</td>\n",
       "      <td>1.358135e-10</td>\n",
       "      <td>...</td>\n",
       "      <td>4.622522e-13</td>\n",
       "      <td>5.365377e-13</td>\n",
       "      <td>3.226660e-13</td>\n",
       "      <td>3.864883e-13</td>\n",
       "      <td>2.263159e-13</td>\n",
       "      <td>1.842558e-13</td>\n",
       "      <td>2.225526e-13</td>\n",
       "      <td>0</td>\n",
       "      <td>67</td>\n",
       "      <td>0</td>\n",
       "    </tr>\n",
       "    <tr>\n",
       "      <th>3</th>\n",
       "      <td>sub-005</td>\n",
       "      <td>1.656372e-10</td>\n",
       "      <td>1.305764e-10</td>\n",
       "      <td>1.400050e-10</td>\n",
       "      <td>1.418274e-10</td>\n",
       "      <td>1.371958e-10</td>\n",
       "      <td>1.362168e-10</td>\n",
       "      <td>1.447223e-10</td>\n",
       "      <td>1.434388e-10</td>\n",
       "      <td>1.424622e-10</td>\n",
       "      <td>...</td>\n",
       "      <td>2.383642e-12</td>\n",
       "      <td>4.735548e-13</td>\n",
       "      <td>4.784333e-13</td>\n",
       "      <td>4.677075e-13</td>\n",
       "      <td>3.885211e-13</td>\n",
       "      <td>2.389231e-13</td>\n",
       "      <td>2.789744e-13</td>\n",
       "      <td>1</td>\n",
       "      <td>70</td>\n",
       "      <td>0</td>\n",
       "    </tr>\n",
       "    <tr>\n",
       "      <th>4</th>\n",
       "      <td>sub-006</td>\n",
       "      <td>1.592726e-10</td>\n",
       "      <td>1.492380e-10</td>\n",
       "      <td>1.578813e-10</td>\n",
       "      <td>1.494216e-10</td>\n",
       "      <td>1.517660e-10</td>\n",
       "      <td>1.446006e-10</td>\n",
       "      <td>1.480658e-10</td>\n",
       "      <td>1.489056e-10</td>\n",
       "      <td>1.517877e-10</td>\n",
       "      <td>...</td>\n",
       "      <td>9.004288e-13</td>\n",
       "      <td>3.977423e-13</td>\n",
       "      <td>4.030327e-13</td>\n",
       "      <td>4.308146e-13</td>\n",
       "      <td>3.449713e-13</td>\n",
       "      <td>2.547785e-13</td>\n",
       "      <td>2.279764e-13</td>\n",
       "      <td>0</td>\n",
       "      <td>61</td>\n",
       "      <td>0</td>\n",
       "    </tr>\n",
       "  </tbody>\n",
       "</table>\n",
       "<p>5 rows × 6274 columns</p>\n",
       "</div>"
      ],
      "text/plain": [
       "  participant_id  w0_Fp1_delta_total_power  w0_Fp2_delta_total_power  \\\n",
       "0        sub-001              1.482606e-10              1.399864e-10   \n",
       "1        sub-002              1.079119e-10              1.114170e-10   \n",
       "2        sub-004              1.405334e-10              1.227932e-10   \n",
       "3        sub-005              1.656372e-10              1.305764e-10   \n",
       "4        sub-006              1.592726e-10              1.492380e-10   \n",
       "\n",
       "   w0_F3_delta_total_power  w0_F4_delta_total_power  w0_C3_delta_total_power  \\\n",
       "0             1.315407e-10             1.296565e-10             1.282590e-10   \n",
       "1             1.113520e-10             1.128301e-10             1.113290e-10   \n",
       "2             1.387294e-10             1.335640e-10             1.315632e-10   \n",
       "3             1.400050e-10             1.418274e-10             1.371958e-10   \n",
       "4             1.578813e-10             1.494216e-10             1.517660e-10   \n",
       "\n",
       "   w0_C4_delta_total_power  w0_P3_delta_total_power  w0_P4_delta_total_power  \\\n",
       "0             1.303774e-10             1.333272e-10             1.370710e-10   \n",
       "1             1.130439e-10             1.129429e-10             1.143529e-10   \n",
       "2             1.274436e-10             1.349376e-10             1.327209e-10   \n",
       "3             1.362168e-10             1.447223e-10             1.434388e-10   \n",
       "4             1.446006e-10             1.480658e-10             1.489056e-10   \n",
       "\n",
       "   w0_O1_delta_total_power  ...  w10_T3_gamma_peak_to_peak  \\\n",
       "0             1.435011e-10  ...               3.386688e-13   \n",
       "1             1.139642e-10  ...               2.484285e-13   \n",
       "2             1.358135e-10  ...               4.622522e-13   \n",
       "3             1.424622e-10  ...               2.383642e-12   \n",
       "4             1.517877e-10  ...               9.004288e-13   \n",
       "\n",
       "   w10_T4_gamma_peak_to_peak  w10_T5_gamma_peak_to_peak  \\\n",
       "0               2.955004e-13               5.828301e-13   \n",
       "1               2.515664e-13               2.061092e-13   \n",
       "2               5.365377e-13               3.226660e-13   \n",
       "3               4.735548e-13               4.784333e-13   \n",
       "4               3.977423e-13               4.030327e-13   \n",
       "\n",
       "   w10_T6_gamma_peak_to_peak  w10_Fz_gamma_peak_to_peak  \\\n",
       "0               3.091508e-13               2.907760e-13   \n",
       "1               2.073052e-13               1.989391e-13   \n",
       "2               3.864883e-13               2.263159e-13   \n",
       "3               4.677075e-13               3.885211e-13   \n",
       "4               4.308146e-13               3.449713e-13   \n",
       "\n",
       "   w10_Cz_gamma_peak_to_peak  w10_Pz_gamma_peak_to_peak  Gender  Age  Group  \n",
       "0               2.915964e-13               2.048106e-13       0   57      0  \n",
       "1               1.647601e-13               1.809839e-13       0   78      0  \n",
       "2               1.842558e-13               2.225526e-13       0   67      0  \n",
       "3               2.389231e-13               2.789744e-13       1   70      0  \n",
       "4               2.547785e-13               2.279764e-13       0   61      0  \n",
       "\n",
       "[5 rows x 6274 columns]"
      ]
     },
     "execution_count": 4,
     "metadata": {},
     "output_type": "execute_result"
    }
   ],
   "source": [
    "eeg_mne.Dataset_Features_Summary(df_psd_features_all)\n",
    "df_psd_features_all.head()"
   ]
  },
  {
   "cell_type": "code",
   "execution_count": 5,
   "metadata": {},
   "outputs": [
    {
     "name": "stdout",
     "output_type": "stream",
     "text": [
      "Total Features: 334\n",
      "Windows: 11 -> ['w0', 'w1', 'w10', 'w2', 'w3', 'w4', 'w5', 'w6', 'w7', 'w8', 'w9']\n",
      "Channels: 1 -> ['Fp1']\n",
      "Frequency Bands: 5 -> ['gamma', 'delta', 'alpha', 'beta', 'theta']\n",
      "Features: 6 -> ['peak to peak', 'total power', 'spectral entropy', 'std dev', 'relative power', 'average power']\n"
     ]
    },
    {
     "data": {
      "text/html": [
       "<div>\n",
       "<style scoped>\n",
       "    .dataframe tbody tr th:only-of-type {\n",
       "        vertical-align: middle;\n",
       "    }\n",
       "\n",
       "    .dataframe tbody tr th {\n",
       "        vertical-align: top;\n",
       "    }\n",
       "\n",
       "    .dataframe thead th {\n",
       "        text-align: right;\n",
       "    }\n",
       "</style>\n",
       "<table border=\"1\" class=\"dataframe\">\n",
       "  <thead>\n",
       "    <tr style=\"text-align: right;\">\n",
       "      <th></th>\n",
       "      <th>participant_id</th>\n",
       "      <th>w0_Fp1_delta_total_power</th>\n",
       "      <th>w1_Fp1_delta_total_power</th>\n",
       "      <th>w2_Fp1_delta_total_power</th>\n",
       "      <th>w3_Fp1_delta_total_power</th>\n",
       "      <th>w4_Fp1_delta_total_power</th>\n",
       "      <th>w5_Fp1_delta_total_power</th>\n",
       "      <th>w6_Fp1_delta_total_power</th>\n",
       "      <th>w7_Fp1_delta_total_power</th>\n",
       "      <th>w8_Fp1_delta_total_power</th>\n",
       "      <th>...</th>\n",
       "      <th>w4_Fp1_gamma_peak_to_peak</th>\n",
       "      <th>w5_Fp1_gamma_peak_to_peak</th>\n",
       "      <th>w6_Fp1_gamma_peak_to_peak</th>\n",
       "      <th>w7_Fp1_gamma_peak_to_peak</th>\n",
       "      <th>w8_Fp1_gamma_peak_to_peak</th>\n",
       "      <th>w9_Fp1_gamma_peak_to_peak</th>\n",
       "      <th>w10_Fp1_gamma_peak_to_peak</th>\n",
       "      <th>Gender</th>\n",
       "      <th>Age</th>\n",
       "      <th>Group</th>\n",
       "    </tr>\n",
       "  </thead>\n",
       "  <tbody>\n",
       "    <tr>\n",
       "      <th>0</th>\n",
       "      <td>sub-001</td>\n",
       "      <td>1.482606e-10</td>\n",
       "      <td>1.539664e-10</td>\n",
       "      <td>1.640913e-10</td>\n",
       "      <td>1.277807e-10</td>\n",
       "      <td>1.546334e-10</td>\n",
       "      <td>1.602554e-10</td>\n",
       "      <td>1.522455e-10</td>\n",
       "      <td>1.391906e-10</td>\n",
       "      <td>1.629814e-10</td>\n",
       "      <td>...</td>\n",
       "      <td>7.380106e-13</td>\n",
       "      <td>5.186201e-13</td>\n",
       "      <td>5.164246e-13</td>\n",
       "      <td>4.919865e-13</td>\n",
       "      <td>4.522907e-13</td>\n",
       "      <td>4.652932e-13</td>\n",
       "      <td>5.643991e-13</td>\n",
       "      <td>0</td>\n",
       "      <td>57</td>\n",
       "      <td>0</td>\n",
       "    </tr>\n",
       "    <tr>\n",
       "      <th>1</th>\n",
       "      <td>sub-002</td>\n",
       "      <td>1.079119e-10</td>\n",
       "      <td>1.032955e-10</td>\n",
       "      <td>1.220342e-10</td>\n",
       "      <td>1.187597e-10</td>\n",
       "      <td>1.227705e-10</td>\n",
       "      <td>1.210614e-10</td>\n",
       "      <td>1.277992e-10</td>\n",
       "      <td>1.234906e-10</td>\n",
       "      <td>1.256641e-10</td>\n",
       "      <td>...</td>\n",
       "      <td>7.699532e-13</td>\n",
       "      <td>3.676913e-13</td>\n",
       "      <td>2.817223e-13</td>\n",
       "      <td>2.394770e-13</td>\n",
       "      <td>3.544304e-13</td>\n",
       "      <td>2.473381e-13</td>\n",
       "      <td>2.063013e-13</td>\n",
       "      <td>0</td>\n",
       "      <td>78</td>\n",
       "      <td>0</td>\n",
       "    </tr>\n",
       "    <tr>\n",
       "      <th>2</th>\n",
       "      <td>sub-004</td>\n",
       "      <td>1.405334e-10</td>\n",
       "      <td>1.819675e-10</td>\n",
       "      <td>1.542677e-10</td>\n",
       "      <td>1.718428e-10</td>\n",
       "      <td>1.167535e-10</td>\n",
       "      <td>1.211645e-10</td>\n",
       "      <td>1.382233e-10</td>\n",
       "      <td>1.551854e-10</td>\n",
       "      <td>1.771741e-10</td>\n",
       "      <td>...</td>\n",
       "      <td>8.399157e-13</td>\n",
       "      <td>8.695519e-13</td>\n",
       "      <td>7.697982e-13</td>\n",
       "      <td>8.206731e-13</td>\n",
       "      <td>6.854909e-13</td>\n",
       "      <td>4.246755e-13</td>\n",
       "      <td>4.607840e-13</td>\n",
       "      <td>0</td>\n",
       "      <td>67</td>\n",
       "      <td>0</td>\n",
       "    </tr>\n",
       "    <tr>\n",
       "      <th>3</th>\n",
       "      <td>sub-005</td>\n",
       "      <td>1.656372e-10</td>\n",
       "      <td>1.230197e-10</td>\n",
       "      <td>1.331212e-10</td>\n",
       "      <td>1.666786e-10</td>\n",
       "      <td>1.776709e-10</td>\n",
       "      <td>1.571387e-10</td>\n",
       "      <td>1.633155e-10</td>\n",
       "      <td>1.683460e-10</td>\n",
       "      <td>1.507685e-10</td>\n",
       "      <td>...</td>\n",
       "      <td>1.491440e-12</td>\n",
       "      <td>1.000392e-12</td>\n",
       "      <td>7.040914e-13</td>\n",
       "      <td>7.395305e-13</td>\n",
       "      <td>1.422540e-12</td>\n",
       "      <td>2.014033e-12</td>\n",
       "      <td>1.652614e-12</td>\n",
       "      <td>1</td>\n",
       "      <td>70</td>\n",
       "      <td>0</td>\n",
       "    </tr>\n",
       "    <tr>\n",
       "      <th>4</th>\n",
       "      <td>sub-006</td>\n",
       "      <td>1.592726e-10</td>\n",
       "      <td>1.497835e-10</td>\n",
       "      <td>1.307667e-10</td>\n",
       "      <td>1.378685e-10</td>\n",
       "      <td>1.364859e-10</td>\n",
       "      <td>1.274019e-10</td>\n",
       "      <td>1.437636e-10</td>\n",
       "      <td>1.490190e-10</td>\n",
       "      <td>1.466645e-10</td>\n",
       "      <td>...</td>\n",
       "      <td>3.440082e-13</td>\n",
       "      <td>3.092531e-13</td>\n",
       "      <td>3.348430e-13</td>\n",
       "      <td>3.375979e-13</td>\n",
       "      <td>3.341492e-13</td>\n",
       "      <td>4.838252e-13</td>\n",
       "      <td>4.263739e-13</td>\n",
       "      <td>0</td>\n",
       "      <td>61</td>\n",
       "      <td>0</td>\n",
       "    </tr>\n",
       "  </tbody>\n",
       "</table>\n",
       "<p>5 rows × 334 columns</p>\n",
       "</div>"
      ],
      "text/plain": [
       "  participant_id  w0_Fp1_delta_total_power  w1_Fp1_delta_total_power  \\\n",
       "0        sub-001              1.482606e-10              1.539664e-10   \n",
       "1        sub-002              1.079119e-10              1.032955e-10   \n",
       "2        sub-004              1.405334e-10              1.819675e-10   \n",
       "3        sub-005              1.656372e-10              1.230197e-10   \n",
       "4        sub-006              1.592726e-10              1.497835e-10   \n",
       "\n",
       "   w2_Fp1_delta_total_power  w3_Fp1_delta_total_power  \\\n",
       "0              1.640913e-10              1.277807e-10   \n",
       "1              1.220342e-10              1.187597e-10   \n",
       "2              1.542677e-10              1.718428e-10   \n",
       "3              1.331212e-10              1.666786e-10   \n",
       "4              1.307667e-10              1.378685e-10   \n",
       "\n",
       "   w4_Fp1_delta_total_power  w5_Fp1_delta_total_power  \\\n",
       "0              1.546334e-10              1.602554e-10   \n",
       "1              1.227705e-10              1.210614e-10   \n",
       "2              1.167535e-10              1.211645e-10   \n",
       "3              1.776709e-10              1.571387e-10   \n",
       "4              1.364859e-10              1.274019e-10   \n",
       "\n",
       "   w6_Fp1_delta_total_power  w7_Fp1_delta_total_power  \\\n",
       "0              1.522455e-10              1.391906e-10   \n",
       "1              1.277992e-10              1.234906e-10   \n",
       "2              1.382233e-10              1.551854e-10   \n",
       "3              1.633155e-10              1.683460e-10   \n",
       "4              1.437636e-10              1.490190e-10   \n",
       "\n",
       "   w8_Fp1_delta_total_power  ...  w4_Fp1_gamma_peak_to_peak  \\\n",
       "0              1.629814e-10  ...               7.380106e-13   \n",
       "1              1.256641e-10  ...               7.699532e-13   \n",
       "2              1.771741e-10  ...               8.399157e-13   \n",
       "3              1.507685e-10  ...               1.491440e-12   \n",
       "4              1.466645e-10  ...               3.440082e-13   \n",
       "\n",
       "   w5_Fp1_gamma_peak_to_peak  w6_Fp1_gamma_peak_to_peak  \\\n",
       "0               5.186201e-13               5.164246e-13   \n",
       "1               3.676913e-13               2.817223e-13   \n",
       "2               8.695519e-13               7.697982e-13   \n",
       "3               1.000392e-12               7.040914e-13   \n",
       "4               3.092531e-13               3.348430e-13   \n",
       "\n",
       "   w7_Fp1_gamma_peak_to_peak  w8_Fp1_gamma_peak_to_peak  \\\n",
       "0               4.919865e-13               4.522907e-13   \n",
       "1               2.394770e-13               3.544304e-13   \n",
       "2               8.206731e-13               6.854909e-13   \n",
       "3               7.395305e-13               1.422540e-12   \n",
       "4               3.375979e-13               3.341492e-13   \n",
       "\n",
       "   w9_Fp1_gamma_peak_to_peak  w10_Fp1_gamma_peak_to_peak  Gender  Age  Group  \n",
       "0               4.652932e-13                5.643991e-13       0   57      0  \n",
       "1               2.473381e-13                2.063013e-13       0   78      0  \n",
       "2               4.246755e-13                4.607840e-13       0   67      0  \n",
       "3               2.014033e-12                1.652614e-12       1   70      0  \n",
       "4               4.838252e-13                4.263739e-13       0   61      0  \n",
       "\n",
       "[5 rows x 334 columns]"
      ]
     },
     "execution_count": 5,
     "metadata": {},
     "output_type": "execute_result"
    }
   ],
   "source": [
    "eeg_mne.Dataset_Features_Summary(df_psd_features_fp1)\n",
    "df_psd_features_fp1.head()"
   ]
  },
  {
   "cell_type": "markdown",
   "metadata": {},
   "source": [
    "Best AUC"
   ]
  },
  {
   "cell_type": "code",
   "execution_count": 6,
   "metadata": {},
   "outputs": [
    {
     "data": {
      "text/html": [
       "<div>\n",
       "<style scoped>\n",
       "    .dataframe tbody tr th:only-of-type {\n",
       "        vertical-align: middle;\n",
       "    }\n",
       "\n",
       "    .dataframe tbody tr th {\n",
       "        vertical-align: top;\n",
       "    }\n",
       "\n",
       "    .dataframe thead th {\n",
       "        text-align: right;\n",
       "    }\n",
       "</style>\n",
       "<table border=\"1\" class=\"dataframe\">\n",
       "  <thead>\n",
       "    <tr style=\"text-align: right;\">\n",
       "      <th></th>\n",
       "      <th>Unnamed: 0</th>\n",
       "      <th>feature_extraction</th>\n",
       "      <th>channels</th>\n",
       "      <th>classifier</th>\n",
       "      <th>cross-validation</th>\n",
       "      <th>feature-selection</th>\n",
       "      <th>accuracy</th>\n",
       "      <th>f1_score</th>\n",
       "      <th>AUC</th>\n",
       "    </tr>\n",
       "  </thead>\n",
       "  <tbody>\n",
       "    <tr>\n",
       "      <th>71</th>\n",
       "      <td>71</td>\n",
       "      <td>PSD</td>\n",
       "      <td>Fp1</td>\n",
       "      <td>XGBoost</td>\n",
       "      <td>StratifiedShuffleSplit</td>\n",
       "      <td>chi2</td>\n",
       "      <td>0.733333</td>\n",
       "      <td>0.726450</td>\n",
       "      <td>0.75</td>\n",
       "    </tr>\n",
       "    <tr>\n",
       "      <th>26</th>\n",
       "      <td>26</td>\n",
       "      <td>PSD</td>\n",
       "      <td>All</td>\n",
       "      <td>XGBoost</td>\n",
       "      <td>StratifiedShuffleSplit</td>\n",
       "      <td>chi2</td>\n",
       "      <td>0.733333</td>\n",
       "      <td>0.726450</td>\n",
       "      <td>0.75</td>\n",
       "    </tr>\n",
       "    <tr>\n",
       "      <th>17</th>\n",
       "      <td>17</td>\n",
       "      <td>PSD</td>\n",
       "      <td>All</td>\n",
       "      <td>Random Forest</td>\n",
       "      <td>StratifiedShuffleSplit</td>\n",
       "      <td>chi2</td>\n",
       "      <td>0.733333</td>\n",
       "      <td>0.725556</td>\n",
       "      <td>0.74</td>\n",
       "    </tr>\n",
       "    <tr>\n",
       "      <th>14</th>\n",
       "      <td>14</td>\n",
       "      <td>PSD</td>\n",
       "      <td>All</td>\n",
       "      <td>Random Forest</td>\n",
       "      <td>StratifiedKFold</td>\n",
       "      <td>chi2</td>\n",
       "      <td>0.705556</td>\n",
       "      <td>0.699870</td>\n",
       "      <td>0.72</td>\n",
       "    </tr>\n",
       "    <tr>\n",
       "      <th>37</th>\n",
       "      <td>37</td>\n",
       "      <td>PSD</td>\n",
       "      <td>All</td>\n",
       "      <td>AdaBoost</td>\n",
       "      <td>KFold</td>\n",
       "      <td>mutual_info_classif</td>\n",
       "      <td>0.705556</td>\n",
       "      <td>0.701111</td>\n",
       "      <td>0.71</td>\n",
       "    </tr>\n",
       "  </tbody>\n",
       "</table>\n",
       "</div>"
      ],
      "text/plain": [
       "    Unnamed: 0 feature_extraction channels     classifier  \\\n",
       "71          71                PSD      Fp1        XGBoost   \n",
       "26          26                PSD      All        XGBoost   \n",
       "17          17                PSD      All  Random Forest   \n",
       "14          14                PSD      All  Random Forest   \n",
       "37          37                PSD      All       AdaBoost   \n",
       "\n",
       "          cross-validation    feature-selection  accuracy  f1_score   AUC  \n",
       "71  StratifiedShuffleSplit                 chi2  0.733333  0.726450  0.75  \n",
       "26  StratifiedShuffleSplit                 chi2  0.733333  0.726450  0.75  \n",
       "17  StratifiedShuffleSplit                 chi2  0.733333  0.725556  0.74  \n",
       "14         StratifiedKFold                 chi2  0.705556  0.699870  0.72  \n",
       "37                   KFold  mutual_info_classif  0.705556  0.701111  0.71  "
      ]
     },
     "execution_count": 6,
     "metadata": {},
     "output_type": "execute_result"
    }
   ],
   "source": [
    "df_results_psd_cv.sort_values('AUC',ascending=False).head()"
   ]
  },
  {
   "cell_type": "markdown",
   "metadata": {},
   "source": [
    "Best Accuracy"
   ]
  },
  {
   "cell_type": "code",
   "execution_count": 7,
   "metadata": {},
   "outputs": [
    {
     "data": {
      "text/html": [
       "<div>\n",
       "<style scoped>\n",
       "    .dataframe tbody tr th:only-of-type {\n",
       "        vertical-align: middle;\n",
       "    }\n",
       "\n",
       "    .dataframe tbody tr th {\n",
       "        vertical-align: top;\n",
       "    }\n",
       "\n",
       "    .dataframe thead th {\n",
       "        text-align: right;\n",
       "    }\n",
       "</style>\n",
       "<table border=\"1\" class=\"dataframe\">\n",
       "  <thead>\n",
       "    <tr style=\"text-align: right;\">\n",
       "      <th></th>\n",
       "      <th>Unnamed: 0</th>\n",
       "      <th>feature_extraction</th>\n",
       "      <th>channels</th>\n",
       "      <th>classifier</th>\n",
       "      <th>cross-validation</th>\n",
       "      <th>feature-selection</th>\n",
       "      <th>accuracy</th>\n",
       "      <th>f1_score</th>\n",
       "      <th>AUC</th>\n",
       "    </tr>\n",
       "  </thead>\n",
       "  <tbody>\n",
       "    <tr>\n",
       "      <th>26</th>\n",
       "      <td>26</td>\n",
       "      <td>PSD</td>\n",
       "      <td>All</td>\n",
       "      <td>XGBoost</td>\n",
       "      <td>StratifiedShuffleSplit</td>\n",
       "      <td>chi2</td>\n",
       "      <td>0.733333</td>\n",
       "      <td>0.726450</td>\n",
       "      <td>0.75</td>\n",
       "    </tr>\n",
       "    <tr>\n",
       "      <th>71</th>\n",
       "      <td>71</td>\n",
       "      <td>PSD</td>\n",
       "      <td>Fp1</td>\n",
       "      <td>XGBoost</td>\n",
       "      <td>StratifiedShuffleSplit</td>\n",
       "      <td>chi2</td>\n",
       "      <td>0.733333</td>\n",
       "      <td>0.726450</td>\n",
       "      <td>0.75</td>\n",
       "    </tr>\n",
       "    <tr>\n",
       "      <th>17</th>\n",
       "      <td>17</td>\n",
       "      <td>PSD</td>\n",
       "      <td>All</td>\n",
       "      <td>Random Forest</td>\n",
       "      <td>StratifiedShuffleSplit</td>\n",
       "      <td>chi2</td>\n",
       "      <td>0.733333</td>\n",
       "      <td>0.725556</td>\n",
       "      <td>0.74</td>\n",
       "    </tr>\n",
       "    <tr>\n",
       "      <th>82</th>\n",
       "      <td>82</td>\n",
       "      <td>PSD</td>\n",
       "      <td>Fp1</td>\n",
       "      <td>AdaBoost</td>\n",
       "      <td>KFold</td>\n",
       "      <td>mutual_info_classif</td>\n",
       "      <td>0.705556</td>\n",
       "      <td>0.701111</td>\n",
       "      <td>0.71</td>\n",
       "    </tr>\n",
       "    <tr>\n",
       "      <th>14</th>\n",
       "      <td>14</td>\n",
       "      <td>PSD</td>\n",
       "      <td>All</td>\n",
       "      <td>Random Forest</td>\n",
       "      <td>StratifiedKFold</td>\n",
       "      <td>chi2</td>\n",
       "      <td>0.705556</td>\n",
       "      <td>0.699870</td>\n",
       "      <td>0.72</td>\n",
       "    </tr>\n",
       "  </tbody>\n",
       "</table>\n",
       "</div>"
      ],
      "text/plain": [
       "    Unnamed: 0 feature_extraction channels     classifier  \\\n",
       "26          26                PSD      All        XGBoost   \n",
       "71          71                PSD      Fp1        XGBoost   \n",
       "17          17                PSD      All  Random Forest   \n",
       "82          82                PSD      Fp1       AdaBoost   \n",
       "14          14                PSD      All  Random Forest   \n",
       "\n",
       "          cross-validation    feature-selection  accuracy  f1_score   AUC  \n",
       "26  StratifiedShuffleSplit                 chi2  0.733333  0.726450  0.75  \n",
       "71  StratifiedShuffleSplit                 chi2  0.733333  0.726450  0.75  \n",
       "17  StratifiedShuffleSplit                 chi2  0.733333  0.725556  0.74  \n",
       "82                   KFold  mutual_info_classif  0.705556  0.701111  0.71  \n",
       "14         StratifiedKFold                 chi2  0.705556  0.699870  0.72  "
      ]
     },
     "execution_count": 7,
     "metadata": {},
     "output_type": "execute_result"
    }
   ],
   "source": [
    "df_results_psd_cv.sort_values('accuracy',ascending=False).head()"
   ]
  },
  {
   "cell_type": "markdown",
   "metadata": {},
   "source": [
    "Best F1 Scores"
   ]
  },
  {
   "cell_type": "code",
   "execution_count": 8,
   "metadata": {},
   "outputs": [
    {
     "data": {
      "text/html": [
       "<div>\n",
       "<style scoped>\n",
       "    .dataframe tbody tr th:only-of-type {\n",
       "        vertical-align: middle;\n",
       "    }\n",
       "\n",
       "    .dataframe tbody tr th {\n",
       "        vertical-align: top;\n",
       "    }\n",
       "\n",
       "    .dataframe thead th {\n",
       "        text-align: right;\n",
       "    }\n",
       "</style>\n",
       "<table border=\"1\" class=\"dataframe\">\n",
       "  <thead>\n",
       "    <tr style=\"text-align: right;\">\n",
       "      <th></th>\n",
       "      <th>Unnamed: 0</th>\n",
       "      <th>feature_extraction</th>\n",
       "      <th>channels</th>\n",
       "      <th>classifier</th>\n",
       "      <th>cross-validation</th>\n",
       "      <th>feature-selection</th>\n",
       "      <th>accuracy</th>\n",
       "      <th>f1_score</th>\n",
       "      <th>AUC</th>\n",
       "    </tr>\n",
       "  </thead>\n",
       "  <tbody>\n",
       "    <tr>\n",
       "      <th>26</th>\n",
       "      <td>26</td>\n",
       "      <td>PSD</td>\n",
       "      <td>All</td>\n",
       "      <td>XGBoost</td>\n",
       "      <td>StratifiedShuffleSplit</td>\n",
       "      <td>chi2</td>\n",
       "      <td>0.733333</td>\n",
       "      <td>0.726450</td>\n",
       "      <td>0.75</td>\n",
       "    </tr>\n",
       "    <tr>\n",
       "      <th>71</th>\n",
       "      <td>71</td>\n",
       "      <td>PSD</td>\n",
       "      <td>Fp1</td>\n",
       "      <td>XGBoost</td>\n",
       "      <td>StratifiedShuffleSplit</td>\n",
       "      <td>chi2</td>\n",
       "      <td>0.733333</td>\n",
       "      <td>0.726450</td>\n",
       "      <td>0.75</td>\n",
       "    </tr>\n",
       "    <tr>\n",
       "      <th>17</th>\n",
       "      <td>17</td>\n",
       "      <td>PSD</td>\n",
       "      <td>All</td>\n",
       "      <td>Random Forest</td>\n",
       "      <td>StratifiedShuffleSplit</td>\n",
       "      <td>chi2</td>\n",
       "      <td>0.733333</td>\n",
       "      <td>0.725556</td>\n",
       "      <td>0.74</td>\n",
       "    </tr>\n",
       "    <tr>\n",
       "      <th>37</th>\n",
       "      <td>37</td>\n",
       "      <td>PSD</td>\n",
       "      <td>All</td>\n",
       "      <td>AdaBoost</td>\n",
       "      <td>KFold</td>\n",
       "      <td>mutual_info_classif</td>\n",
       "      <td>0.705556</td>\n",
       "      <td>0.701111</td>\n",
       "      <td>0.71</td>\n",
       "    </tr>\n",
       "    <tr>\n",
       "      <th>82</th>\n",
       "      <td>82</td>\n",
       "      <td>PSD</td>\n",
       "      <td>Fp1</td>\n",
       "      <td>AdaBoost</td>\n",
       "      <td>KFold</td>\n",
       "      <td>mutual_info_classif</td>\n",
       "      <td>0.705556</td>\n",
       "      <td>0.701111</td>\n",
       "      <td>0.71</td>\n",
       "    </tr>\n",
       "  </tbody>\n",
       "</table>\n",
       "</div>"
      ],
      "text/plain": [
       "    Unnamed: 0 feature_extraction channels     classifier  \\\n",
       "26          26                PSD      All        XGBoost   \n",
       "71          71                PSD      Fp1        XGBoost   \n",
       "17          17                PSD      All  Random Forest   \n",
       "37          37                PSD      All       AdaBoost   \n",
       "82          82                PSD      Fp1       AdaBoost   \n",
       "\n",
       "          cross-validation    feature-selection  accuracy  f1_score   AUC  \n",
       "26  StratifiedShuffleSplit                 chi2  0.733333  0.726450  0.75  \n",
       "71  StratifiedShuffleSplit                 chi2  0.733333  0.726450  0.75  \n",
       "17  StratifiedShuffleSplit                 chi2  0.733333  0.725556  0.74  \n",
       "37                   KFold  mutual_info_classif  0.705556  0.701111  0.71  \n",
       "82                   KFold  mutual_info_classif  0.705556  0.701111  0.71  "
      ]
     },
     "execution_count": 8,
     "metadata": {},
     "output_type": "execute_result"
    }
   ],
   "source": [
    "df_results_psd_cv.sort_values('f1_score',ascending=False).head()"
   ]
  },
  {
   "cell_type": "markdown",
   "metadata": {},
   "source": [
    "## Train Test Split"
   ]
  },
  {
   "cell_type": "markdown",
   "metadata": {},
   "source": [
    "#### All Channels"
   ]
  },
  {
   "cell_type": "code",
   "execution_count": 9,
   "metadata": {},
   "outputs": [],
   "source": [
    "# Global variables\n",
    "cols_to_drop = ['participant_id', 'Group']\n",
    "target = 'Group'"
   ]
  },
  {
   "cell_type": "markdown",
   "metadata": {},
   "source": [
    "##### Train Test Split"
   ]
  },
  {
   "cell_type": "code",
   "execution_count": 22,
   "metadata": {},
   "outputs": [
    {
     "name": "stdout",
     "output_type": "stream",
     "text": [
      "Train: 33\n",
      "Test: 11\n"
     ]
    }
   ],
   "source": [
    "# Save the features used\n",
    "features = df_psd_features_all.drop(columns=cols_to_drop).columns.to_list()\n",
    "\n",
    "# Set the X and y datasets\n",
    "X = df_psd_features_all.drop(columns=cols_to_drop).values\n",
    "y = df_psd_features_all[target].values\n",
    "\n",
    "# Train Test Split\n",
    "X_train, X_test, y_train, y_test = train_test_split(X, y, test_size=0.25, random_state=42)\n",
    "\n",
    "print('Train:', len(X_train))\n",
    "print('Test:', len(X_test))"
   ]
  },
  {
   "cell_type": "markdown",
   "metadata": {},
   "source": [
    "## XGBoost Modeling"
   ]
  },
  {
   "cell_type": "markdown",
   "metadata": {},
   "source": [
    "### All Features"
   ]
  },
  {
   "cell_type": "markdown",
   "metadata": {},
   "source": [
    "Simple Predictions"
   ]
  },
  {
   "cell_type": "code",
   "execution_count": 11,
   "metadata": {},
   "outputs": [
    {
     "name": "stdout",
     "output_type": "stream",
     "text": [
      "-- SCORES --\n",
      "Accuracy: 63.64 %\n",
      "F1 Score: 63.33 %\n",
      "AUC: 63.33 %\n"
     ]
    }
   ],
   "source": [
    "# Define the XGBoost model\n",
    "clf =  xgb.XGBClassifier()\n",
    "# Training\n",
    "clf.fit(X_train, y_train)\n",
    "# Predict\n",
    "y_pred = clf.predict(X_test)\n",
    "# Scores\n",
    "clf_feat_scores = eeg_mne.get_Scores(y_test, y_pred, True)"
   ]
  },
  {
   "cell_type": "markdown",
   "metadata": {},
   "source": [
    "Get Feature Importances"
   ]
  },
  {
   "cell_type": "code",
   "execution_count": 12,
   "metadata": {},
   "outputs": [
    {
     "data": {
      "image/png": "[encoded data removed]",
      "text/plain": [
       "<Figure size 1000x600 with 1 Axes>"
      ]
     },
     "metadata": {},
     "output_type": "display_data"
    }
   ],
   "source": [
    "df_feature_importances = eeg_mne.get_Feature_Importance(features, clf.feature_importances_, top_n=15)"
   ]
  },
  {
   "cell_type": "markdown",
   "metadata": {},
   "source": [
    "#### Hyperparameters Optimization"
   ]
  },
  {
   "cell_type": "markdown",
   "metadata": {},
   "source": [
    "XGBoost Parameters"
   ]
  },
  {
   "cell_type": "code",
   "execution_count": 13,
   "metadata": {},
   "outputs": [],
   "source": [
    "# Define a grid of hyperparameters to search for XGBoost\n",
    "params = {\n",
    "    'n_estimators': [50, 100, 200],\n",
    "    'max_depth': [3, 4, 5],\n",
    "    'learning_rate': [0.01, 0.1, 0.2],\n",
    "    'subsample': [0.8, 0.9, 1.0],\n",
    "    'colsample_bytree': [0.8, 0.9, 1.0],\n",
    "}"
   ]
  },
  {
   "cell_type": "markdown",
   "metadata": {},
   "source": [
    "GridSearchCV"
   ]
  },
  {
   "cell_type": "code",
   "execution_count": 14,
   "metadata": {},
   "outputs": [
    {
     "name": "stdout",
     "output_type": "stream",
     "text": [
      "Best Hyperparameters GridSearch: {'colsample_bytree': 0.8, 'learning_rate': 0.01, 'max_depth': 3, 'n_estimators': 200, 'subsample': 0.8}\n"
     ]
    }
   ],
   "source": [
    "# Define the XGBoost model\n",
    "clf =  xgb.XGBClassifier()\n",
    "# Create a GridSearchCV object\n",
    "grid_search = GridSearchCV(estimator=clf, param_grid=params, scoring='accuracy', cv=5)\n",
    "# Perform the grid search\n",
    "grid_search.fit(X_train, y_train)\n",
    "# Get the best hyperparameters\n",
    "best_params_GrS = grid_search.best_params_\n",
    "print(\"Best Hyperparameters GridSearch:\", best_params_GrS)"
   ]
  },
  {
   "cell_type": "markdown",
   "metadata": {},
   "source": [
    "Prediction after using GridSearchCV"
   ]
  },
  {
   "cell_type": "code",
   "execution_count": 15,
   "metadata": {},
   "outputs": [
    {
     "name": "stdout",
     "output_type": "stream",
     "text": [
      "-- SCORES --\n",
      "Accuracy: 54.55 %\n",
      "F1 Score: 54.55 %\n",
      "AUC: 55.0 %\n"
     ]
    }
   ],
   "source": [
    "# Define the XGBoost model\n",
    "clf =  xgb.XGBClassifier(**best_params_GrS)\n",
    "# Training\n",
    "clf.fit(X_train, y_train)\n",
    "# Predict\n",
    "y_pred = clf.predict(X_test)\n",
    "# Scores\n",
    "clf_feat_scores = eeg_mne.get_Scores(y_test, y_pred, True)"
   ]
  },
  {
   "cell_type": "markdown",
   "metadata": {},
   "source": [
    "RandomSearchCV"
   ]
  },
  {
   "cell_type": "code",
   "execution_count": 16,
   "metadata": {},
   "outputs": [
    {
     "name": "stdout",
     "output_type": "stream",
     "text": [
      "Best Hyperparameters RandomSearch: {'subsample': 1.0, 'n_estimators': 100, 'max_depth': 4, 'learning_rate': 0.1, 'colsample_bytree': 0.9}\n"
     ]
    }
   ],
   "source": [
    "# Define the XGBoost model\n",
    "clf =  xgb.XGBClassifier()\n",
    "# Create a GridSearchCV object\n",
    "random_search = RandomizedSearchCV(estimator=clf, param_distributions=params, random_state=0)\n",
    "random_search.fit(X_train, y_train)\n",
    "# Get the best hyperparameters\n",
    "best_params_RS = random_search.best_params_\n",
    "print(\"Best Hyperparameters RandomSearch:\", best_params_RS)"
   ]
  },
  {
   "cell_type": "markdown",
   "metadata": {},
   "source": [
    "Prediction after using RandomSearchCV"
   ]
  },
  {
   "cell_type": "code",
   "execution_count": 17,
   "metadata": {},
   "outputs": [
    {
     "name": "stdout",
     "output_type": "stream",
     "text": [
      "-- SCORES --\n",
      "Accuracy: 54.55 %\n",
      "F1 Score: 54.55 %\n",
      "AUC: 55.0 %\n"
     ]
    }
   ],
   "source": [
    "# Define the XGBoost model\n",
    "clf =  xgb.XGBClassifier(**best_params_RS)\n",
    "# Training\n",
    "clf.fit(X_train, y_train)\n",
    "# Predict\n",
    "y_pred = clf.predict(X_test)\n",
    "# Scores\n",
    "clf_feat_scores = eeg_mne.get_Scores(y_test, y_pred, True)"
   ]
  },
  {
   "cell_type": "markdown",
   "metadata": {},
   "source": [
    "### Feature Selection"
   ]
  },
  {
   "cell_type": "code",
   "execution_count": 18,
   "metadata": {},
   "outputs": [
    {
     "name": "stdout",
     "output_type": "stream",
     "text": [
      "-- SCORES --\n",
      "Accuracy: 63.64 %\n",
      "F1 Score: 63.33 %\n",
      "AUC: 65.0 %\n"
     ]
    }
   ],
   "source": [
    "# Feature Selection\n",
    "selector = SelectKBest(score_func=chi2, k=75) # Using K features\n",
    "X_train_selected = selector.fit_transform(X_train, y_train)\n",
    "X_test_selected = selector.transform(X_test)\n",
    "# Define the XGBoost model\n",
    "clf =  xgb.XGBClassifier()\n",
    "# Training\n",
    "clf.fit(X_train_selected, y_train)\n",
    "# Predict\n",
    "y_pred = clf.predict(X_test_selected)\n",
    "# Scores\n",
    "clf_feat_scores = eeg_mne.get_Scores(y_test, y_pred, True)"
   ]
  },
  {
   "cell_type": "markdown",
   "metadata": {},
   "source": [
    "Get Feature Importance"
   ]
  },
  {
   "cell_type": "code",
   "execution_count": 19,
   "metadata": {},
   "outputs": [
    {
     "data": {
      "image/png": "[encoded data removed]",
      "text/plain": [
       "<Figure size 1000x600 with 1 Axes>"
      ]
     },
     "metadata": {},
     "output_type": "display_data"
    }
   ],
   "source": [
    "# Using the features selected\n",
    "df_feature_importances = eeg_mne.get_Feature_Importance(selector.get_feature_names_out(features).tolist(),\n",
    "                                                         clf.feature_importances_, top_n=15)"
   ]
  },
  {
   "cell_type": "markdown",
   "metadata": {},
   "source": [
    "##### Hyperparameters Optimization"
   ]
  },
  {
   "cell_type": "markdown",
   "metadata": {},
   "source": [
    "GridSearchCV"
   ]
  },
  {
   "cell_type": "code",
   "execution_count": 20,
   "metadata": {},
   "outputs": [
    {
     "name": "stdout",
     "output_type": "stream",
     "text": [
      "Best Hyperparameters GridSearch: {'colsample_bytree': 0.9, 'learning_rate': 0.1, 'max_depth': 3, 'n_estimators': 50, 'subsample': 1.0}\n"
     ]
    }
   ],
   "source": [
    "# Define the XGBoost model\n",
    "clf =  xgb.XGBClassifier()\n",
    "# Create a GridSearchCV object\n",
    "grid_search = GridSearchCV(estimator=clf, param_grid=params, scoring='accuracy', cv=5)\n",
    "# Perform the grid search\n",
    "grid_search.fit(X_train_selected, y_train)\n",
    "# Get the best hyperparameters\n",
    "best_params_GrS = grid_search.best_params_\n",
    "print(\"Best Hyperparameters GridSearch:\", best_params_GrS)"
   ]
  },
  {
   "cell_type": "code",
   "execution_count": 21,
   "metadata": {},
   "outputs": [
    {
     "name": "stdout",
     "output_type": "stream",
     "text": [
      "-- SCORES --\n",
      "Accuracy: 54.55 %\n",
      "F1 Score: 52.99 %\n",
      "AUC: 56.67 %\n"
     ]
    }
   ],
   "source": [
    "# Define the XGBoost model\n",
    "clf =  xgb.XGBClassifier(**best_params_GrS)\n",
    "# Training\n",
    "clf.fit(X_train_selected, y_train)\n",
    "# Predict\n",
    "y_pred = clf.predict(X_test_selected)\n",
    "# Scores\n",
    "clf_feat_scores = eeg_mne.get_Scores(y_test, y_pred, True)"
   ]
  }
 ],
 "metadata": {
  "kernelspec": {
   "display_name": ".venv",
   "language": "python",
   "name": "python3"
  },
  "language_info": {
   "codemirror_mode": {
    "name": "ipython",
    "version": 3
   },
   "file_extension": ".py",
   "mimetype": "text/x-python",
   "name": "python",
   "nbconvert_exporter": "python",
   "pygments_lexer": "ipython3",
   "version": "3.11.5"
  }
 },
 "nbformat": 4,
 "nbformat_minor": 2
}
